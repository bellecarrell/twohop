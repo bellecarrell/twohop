{
 "cells": [
  {
   "cell_type": "code",
   "execution_count": 9,
   "id": "22338dcd-fe2c-465f-8773-12e38838c606",
   "metadata": {},
   "outputs": [],
   "source": [
    "from benchmark import Dataset"
   ]
  },
  {
   "cell_type": "code",
   "execution_count": 11,
   "id": "27ff3ebc-e39c-419a-9664-e5d5c3286c67",
   "metadata": {},
   "outputs": [],
   "source": [
    "import json\n",
    "with open('/Users/annabelle/workplace/RippleEdits/data/benchmark/two-hop.json', 'r', encoding='utf-8') as f:\n",
    "    two_hop_examples = json.load(f)\n",
    "    "
   ]
  },
  {
   "cell_type": "code",
   "execution_count": 13,
   "id": "18ce2429-368e-4eb5-8ede-30369c07e4e6",
   "metadata": {},
   "outputs": [
    {
     "data": {
      "text/plain": [
       "{'prompt': 'The name of the currency in the country of citizenship of Leonardo DiCaprio is',\n",
       " 'answers': [{'value': 'Syrian pound',\n",
       "   'aliases': ['SYP', 'LS', 'Syrian lira']}],\n",
       " 'query_type': 'two_hop',\n",
       " 'subject_id': 'Q38111',\n",
       " 'relation': 'COUNTRY_OF_CITIZENSHIP',\n",
       " 'target_ids': ['Q858'],\n",
       " 'phrase': 'The name of the currency in the country of citizenship of Leonardo DiCaprio is',\n",
       " 'second_relation': 'CURRENCY',\n",
       " 'second_hop_target_ids': ['Q240468']}"
      ]
     },
     "execution_count": 13,
     "metadata": {},
     "output_type": "execute_result"
    }
   ],
   "source": [
    "two_hop_examples[0]"
   ]
  },
  {
   "cell_type": "code",
   "execution_count": 10,
   "id": "f7f688bf-375d-4dcc-8f5e-7978923fa8d4",
   "metadata": {},
   "outputs": [
    {
     "ename": "KeyError",
     "evalue": "'edit'",
     "output_type": "error",
     "traceback": [
      "\u001b[0;31m---------------------------------------------------------------------------\u001b[0m",
      "\u001b[0;31mKeyError\u001b[0m                                  Traceback (most recent call last)",
      "Cell \u001b[0;32mIn[10], line 1\u001b[0m\n\u001b[0;32m----> 1\u001b[0m dataset \u001b[38;5;241m=\u001b[39m \u001b[43mDataset\u001b[49m\u001b[38;5;241;43m.\u001b[39;49m\u001b[43mfrom_file\u001b[49m\u001b[43m(\u001b[49m\u001b[38;5;124;43m'\u001b[39;49m\u001b[38;5;124;43m/Users/annabelle/workplace/RippleEdits/data/benchmark/two-hop.json\u001b[39;49m\u001b[38;5;124;43m'\u001b[39;49m\u001b[43m)\u001b[49m\n",
      "File \u001b[0;32m~/workplace/RippleEdits/src/benchmark.py:176\u001b[0m, in \u001b[0;36mDataset.from_file\u001b[0;34m(filename)\u001b[0m\n\u001b[1;32m    174\u001b[0m \u001b[38;5;28;01mwith\u001b[39;00m \u001b[38;5;28mopen\u001b[39m(filename, \u001b[38;5;124m'\u001b[39m\u001b[38;5;124mr\u001b[39m\u001b[38;5;124m'\u001b[39m, encoding\u001b[38;5;241m=\u001b[39m\u001b[38;5;124m'\u001b[39m\u001b[38;5;124mutf-8\u001b[39m\u001b[38;5;124m'\u001b[39m) \u001b[38;5;28;01mas\u001b[39;00m f:\n\u001b[1;32m    175\u001b[0m     examples \u001b[38;5;241m=\u001b[39m json\u001b[38;5;241m.\u001b[39mload(f)\n\u001b[0;32m--> 176\u001b[0m \u001b[38;5;28;01mreturn\u001b[39;00m Dataset([Example\u001b[38;5;241m.\u001b[39mfrom_dict(example) \u001b[38;5;28;01mfor\u001b[39;00m example \u001b[38;5;129;01min\u001b[39;00m examples])\n",
      "File \u001b[0;32m~/workplace/RippleEdits/src/benchmark.py:176\u001b[0m, in \u001b[0;36m<listcomp>\u001b[0;34m(.0)\u001b[0m\n\u001b[1;32m    174\u001b[0m \u001b[38;5;28;01mwith\u001b[39;00m \u001b[38;5;28mopen\u001b[39m(filename, \u001b[38;5;124m'\u001b[39m\u001b[38;5;124mr\u001b[39m\u001b[38;5;124m'\u001b[39m, encoding\u001b[38;5;241m=\u001b[39m\u001b[38;5;124m'\u001b[39m\u001b[38;5;124mutf-8\u001b[39m\u001b[38;5;124m'\u001b[39m) \u001b[38;5;28;01mas\u001b[39;00m f:\n\u001b[1;32m    175\u001b[0m     examples \u001b[38;5;241m=\u001b[39m json\u001b[38;5;241m.\u001b[39mload(f)\n\u001b[0;32m--> 176\u001b[0m \u001b[38;5;28;01mreturn\u001b[39;00m Dataset([\u001b[43mExample\u001b[49m\u001b[38;5;241;43m.\u001b[39;49m\u001b[43mfrom_dict\u001b[49m\u001b[43m(\u001b[49m\u001b[43mexample\u001b[49m\u001b[43m)\u001b[49m \u001b[38;5;28;01mfor\u001b[39;00m example \u001b[38;5;129;01min\u001b[39;00m examples])\n",
      "File \u001b[0;32m~/workplace/RippleEdits/src/benchmark.py:51\u001b[0m, in \u001b[0;36mExample.from_dict\u001b[0;34m(d)\u001b[0m\n\u001b[1;32m     49\u001b[0m \u001b[38;5;129m@staticmethod\u001b[39m\n\u001b[1;32m     50\u001b[0m \u001b[38;5;28;01mdef\u001b[39;00m \u001b[38;5;21mfrom_dict\u001b[39m(d):\n\u001b[0;32m---> 51\u001b[0m     fact \u001b[38;5;241m=\u001b[39m Fact\u001b[38;5;241m.\u001b[39mfrom_dict(\u001b[43md\u001b[49m\u001b[43m[\u001b[49m\u001b[38;5;124;43m'\u001b[39;49m\u001b[38;5;124;43medit\u001b[39;49m\u001b[38;5;124;43m'\u001b[39;49m\u001b[43m]\u001b[49m)\n\u001b[1;32m     52\u001b[0m     making_up_tests \u001b[38;5;241m=\u001b[39m [TestCase\u001b[38;5;241m.\u001b[39mfrom_dict(test) \u001b[38;5;28;01mfor\u001b[39;00m test \u001b[38;5;129;01min\u001b[39;00m d[\u001b[38;5;124m'\u001b[39m\u001b[38;5;124mRelation_Specificity\u001b[39m\u001b[38;5;124m'\u001b[39m]]\n\u001b[1;32m     53\u001b[0m     logical_constraints \u001b[38;5;241m=\u001b[39m [TestCase\u001b[38;5;241m.\u001b[39mfrom_dict(test) \u001b[38;5;28;01mfor\u001b[39;00m test \u001b[38;5;129;01min\u001b[39;00m d[\u001b[38;5;124m'\u001b[39m\u001b[38;5;124mLogical_Generalization\u001b[39m\u001b[38;5;124m'\u001b[39m]]\n",
      "\u001b[0;31mKeyError\u001b[0m: 'edit'"
     ]
    }
   ],
   "source": [
    "dataset = Dataset.from_file('/Users/annabelle/workplace/RippleEdits/data/benchmark/two-hop.json')"
   ]
  },
  {
   "cell_type": "code",
   "execution_count": 2,
   "id": "918b0a20-3280-48bc-999e-538815c66874",
   "metadata": {},
   "outputs": [],
   "source": [
    "dataset = Dataset.from_file('/Users/annabelle/workplace/RippleEdits/data/benchmark/popular.json')\n",
    "example_with_two_hop = []\n",
    "examples = dataset.examples\n",
    "for e in examples:\n",
    "    if len(e.two_hop_tests) != 0:\n",
    "        for test in e.two_hop_tests:\n",
    "            example_with_two_hop.append(test.get_test_queries())"
   ]
  },
  {
   "cell_type": "code",
   "execution_count": 3,
   "id": "0b8d38a3-38fe-4305-b4a1-a7071aaf3ba6",
   "metadata": {},
   "outputs": [],
   "source": [
    "dataset = Dataset.from_file('/Users/annabelle/workplace/RippleEdits/data/benchmark/recent.json')\n",
    "\n",
    "examples = dataset.examples\n",
    "for e in examples:\n",
    "    if len(e.two_hop_tests) != 0:\n",
    "        for test in e.two_hop_tests:\n",
    "            example_with_two_hop.append(test.get_test_queries())"
   ]
  },
  {
   "cell_type": "code",
   "execution_count": 4,
   "id": "8aabe4b8-675d-435b-ac71-2eb610f423eb",
   "metadata": {},
   "outputs": [],
   "source": [
    "dataset = Dataset.from_file('/Users/annabelle/workplace/RippleEdits/data/benchmark/random.json')\n",
    "\n",
    "examples = dataset.examples\n",
    "for e in examples:\n",
    "    if len(e.two_hop_tests) != 0:\n",
    "        for test in e.two_hop_tests:\n",
    "            example_with_two_hop.append(test.get_test_queries())"
   ]
  },
  {
   "cell_type": "code",
   "execution_count": 5,
   "id": "5d026c9c-d755-4ca2-b850-e574408b0661",
   "metadata": {},
   "outputs": [],
   "source": [
    "def flatten_extend(matrix):\n",
    "    flat_list = []\n",
    "    for row in matrix:\n",
    "        flat_list.extend(row)\n",
    "    return flat_list\n",
    "example_with_two_hop = flatten_extend(example_with_two_hop)"
   ]
  },
  {
   "cell_type": "code",
   "execution_count": 6,
   "id": "850b0cc3-5695-4d89-89d5-195d40e8c037",
   "metadata": {},
   "outputs": [
    {
     "name": "stdout",
     "output_type": "stream",
     "text": [
      "-------------two hop fact --------------------\n",
      "entity 1 Q38111\n",
      " relation Relation.COUNTRY_OF_CITIZENSHIP\n",
      " bridge entity['Q858']\n",
      " second relation Relation.CURRENCY\n",
      "  entity 2['Q240468']\n",
      "The name of the currency in the country of citizenship of Leonardo DiCaprio is\n",
      "-------------two hop fact --------------------\n",
      "entity 1 Q38111\n",
      " relation Relation.COUNTRY_OF_CITIZENSHIP\n",
      " bridge entity['Q858']\n",
      " second relation Relation.OFFICIAL_LANGUAGE\n",
      "  entity 2['Q13955']\n",
      "The official language of the country of citizenship of Leonardo DiCaprio is\n",
      "-------------two hop fact --------------------\n",
      "entity 1 Q38111\n",
      " relation Relation.COUNTRY_OF_CITIZENSHIP\n",
      " bridge entity['Q858']\n",
      " second relation Relation.CONTINENT\n",
      "  entity 2['Q48']\n",
      "The name of the continent which the country of citizenship of Leonardo DiCaprio is part of is\n",
      "-------------two hop fact --------------------\n",
      "entity 1 Q38111\n",
      " relation Relation.COUNTRY_OF_CITIZENSHIP\n",
      " bridge entity['Q858']\n",
      " second relation Relation.CAPITAL\n",
      "  entity 2['Q3766']\n",
      "The name of the capital city of the country of citizenship of Leonardo DiCaprio is\n"
     ]
    }
   ],
   "source": [
    "for i, e in enumerate(example_with_two_hop):\n",
    "    if i > 3:\n",
    "        break\n",
    "    print('-------------two hop fact --------------------')\n",
    "    print(f'entity 1 {e._subject_id}\\n relation {e._relation}\\n bridge entity{e._targets_ids}\\n second relation {e._second_relation}\\n  entity 2{e._second_hop_target_ids}')\n",
    "    print(f'{e.get_query_prompt()}')"
   ]
  },
  {
   "cell_type": "code",
   "execution_count": 7,
   "id": "922e3efe-1f6a-43ca-ba69-76498aac6e3e",
   "metadata": {},
   "outputs": [
    {
     "data": {
      "text/plain": [
       "14555"
      ]
     },
     "execution_count": 7,
     "metadata": {},
     "output_type": "execute_result"
    }
   ],
   "source": [
    "len(example_with_two_hop)"
   ]
  },
  {
   "cell_type": "code",
   "execution_count": 8,
   "id": "cef215cc-6f9d-4d00-8878-e46f3cf1524b",
   "metadata": {},
   "outputs": [
    {
     "name": "stderr",
     "output_type": "stream",
     "text": [
      "Wikidata redirect detected.  Input entity id=Q45551700. Returned entity id=Q20063145.\n",
      "Wikidata redirect detected.  Input entity id=Q108652484. Returned entity id=Q48869259.\n",
      "Wikidata redirect detected.  Input entity id=Q12826225. Returned entity id=Q12552047.\n",
      "Wikidata redirect detected.  Input entity id=Q3594060. Returned entity id=Q2534525.\n",
      "Wikidata redirect detected.  Input entity id=Q110153788. Returned entity id=Q75290087.\n",
      "Wikidata redirect detected.  Input entity id=Q61050413. Returned entity id=Q52494304.\n",
      "Wikidata redirect detected.  Input entity id=Q19276517. Returned entity id=Q111960008.\n",
      "Wikidata redirect detected.  Input entity id=Q101848241. Returned entity id=Q97094828.\n",
      "Wikidata redirect detected.  Input entity id=Q67403642. Returned entity id=Q59838973.\n",
      "Wikidata redirect detected.  Input entity id=Q87495276. Returned entity id=Q15898865.\n"
     ]
    }
   ],
   "source": [
    "two_hop_dataset = Dataset(example_with_two_hop)\n",
    "two_hop_dataset.to_file('/Users/annabelle/workplace/RippleEdits/data/benchmark/two-hop.json')"
   ]
  },
  {
   "cell_type": "code",
   "execution_count": 10,
   "id": "4b553e31-2aba-4676-935d-095bbb8d89c7",
   "metadata": {},
   "outputs": [
    {
     "name": "stderr",
     "output_type": "stream",
     "text": [
      "Wikidata redirect detected.  Input entity id=Q45551700. Returned entity id=Q20063145.\n",
      "Wikidata redirect detected.  Input entity id=Q108652484. Returned entity id=Q48869259.\n",
      "Wikidata redirect detected.  Input entity id=Q12826225. Returned entity id=Q12552047.\n",
      "Wikidata redirect detected.  Input entity id=Q3594060. Returned entity id=Q2534525.\n",
      "Wikidata redirect detected.  Input entity id=Q110153788. Returned entity id=Q75290087.\n",
      "Wikidata redirect detected.  Input entity id=Q61050413. Returned entity id=Q52494304.\n",
      "Wikidata redirect detected.  Input entity id=Q19276517. Returned entity id=Q111960008.\n",
      "Wikidata redirect detected.  Input entity id=Q101848241. Returned entity id=Q97094828.\n",
      "Wikidata redirect detected.  Input entity id=Q67403642. Returned entity id=Q59838973.\n",
      "Wikidata redirect detected.  Input entity id=Q87495276. Returned entity id=Q15898865.\n"
     ]
    },
    {
     "data": {
      "text/plain": [
       "9"
      ]
     },
     "execution_count": 10,
     "metadata": {},
     "output_type": "execute_result"
    }
   ],
   "source": [
    "d = {}\n",
    "for e in example_with_two_hop:\n",
    "    d.update(e.to_dict())\n",
    "len(d.keys())"
   ]
  },
  {
   "cell_type": "code",
   "execution_count": 39,
   "id": "35c7adc9-745c-41a0-89e9-f4381292f9fb",
   "metadata": {},
   "outputs": [
    {
     "data": {
      "text/plain": [
       "532"
      ]
     },
     "execution_count": 39,
     "metadata": {},
     "output_type": "execute_result"
    }
   ],
   "source": [
    "from relation import Relation\n",
    "from two_hop_phrases import relation_couple_to_phrase, relation_relation2phrase\n",
    "len(Relation)\n",
    "relation_two_hops = []\n",
    "for rel1 in Relation:\n",
    "    for rel2 in Relation:\n",
    "        if relation_couple_to_phrase(rel1, rel2) is not None:\n",
    "            relation_two_hops.append((rel1, rel2))\n",
    "len(relation_two_hops)\n",
    "            "
   ]
  },
  {
   "cell_type": "code",
   "execution_count": 4,
   "id": "b591a29e-c640-4f1a-9e18-d26af9cd63bc",
   "metadata": {},
   "outputs": [],
   "source": [
    "import json\n",
    "def load_json(path: str):\n",
    "    with open(path, 'r+', encoding='utf-8') as f:\n",
    "        result = json.load(f)\n",
    "    return result\n",
    "ent_label2id_dict = load_json('./wikidata/ent_label2id/ent_label2id.json')"
   ]
  },
  {
   "cell_type": "code",
   "execution_count": 5,
   "id": "b859166a-ff1e-47b5-93a4-26a3654c102f",
   "metadata": {},
   "outputs": [
    {
     "data": {
      "text/plain": [
       "5389765"
      ]
     },
     "execution_count": 5,
     "metadata": {},
     "output_type": "execute_result"
    }
   ],
   "source": [
    "len(ent_label2id_dict.keys())"
   ]
  }
 ],
 "metadata": {
  "kernelspec": {
   "display_name": "Python 3 (ipykernel)",
   "language": "python",
   "name": "python3"
  },
  "language_info": {
   "codemirror_mode": {
    "name": "ipython",
    "version": 3
   },
   "file_extension": ".py",
   "mimetype": "text/x-python",
   "name": "python",
   "nbconvert_exporter": "python",
   "pygments_lexer": "ipython3",
   "version": "3.9.19"
  }
 },
 "nbformat": 4,
 "nbformat_minor": 5
}
