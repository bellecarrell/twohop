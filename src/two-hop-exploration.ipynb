{
 "cells": [
  {
   "cell_type": "code",
   "execution_count": 2,
   "id": "22338dcd-fe2c-465f-8773-12e38838c606",
   "metadata": {},
   "outputs": [],
   "source": [
    "from benchmark import Dataset"
   ]
  },
  {
   "cell_type": "code",
   "execution_count": 44,
   "id": "918b0a20-3280-48bc-999e-538815c66874",
   "metadata": {},
   "outputs": [],
   "source": [
    "dataset = Dataset.from_file('/Users/annabelle/workplace/RippleEdits/data/benchmark/popular.json')\n",
    "example_with_two_hop = []\n",
    "examples = dataset.examples\n",
    "for e in examples:\n",
    "    if len(e.two_hop_tests) != 0:\n",
    "        for test in e.two_hop_tests:\n",
    "            example_with_two_hop.append(test.get_test_queries())"
   ]
  },
  {
   "cell_type": "code",
   "execution_count": 45,
   "id": "0b8d38a3-38fe-4305-b4a1-a7071aaf3ba6",
   "metadata": {},
   "outputs": [],
   "source": [
    "dataset = Dataset.from_file('/Users/annabelle/workplace/RippleEdits/data/benchmark/recent.json')\n",
    "\n",
    "examples = dataset.examples\n",
    "for e in examples:\n",
    "    if len(e.two_hop_tests) != 0:\n",
    "        for test in e.two_hop_tests:\n",
    "            example_with_two_hop.append(test.get_test_queries())"
   ]
  },
  {
   "cell_type": "code",
   "execution_count": 46,
   "id": "8aabe4b8-675d-435b-ac71-2eb610f423eb",
   "metadata": {},
   "outputs": [],
   "source": [
    "dataset = Dataset.from_file('/Users/annabelle/workplace/RippleEdits/data/benchmark/random.json')\n",
    "\n",
    "examples = dataset.examples\n",
    "for e in examples:\n",
    "    if len(e.two_hop_tests) != 0:\n",
    "        for test in e.two_hop_tests:\n",
    "            example_with_two_hop.append(test.get_test_queries())"
   ]
  },
  {
   "cell_type": "code",
   "execution_count": 47,
   "id": "5d026c9c-d755-4ca2-b850-e574408b0661",
   "metadata": {},
   "outputs": [],
   "source": [
    "def flatten_extend(matrix):\n",
    "    flat_list = []\n",
    "    for row in matrix:\n",
    "        flat_list.extend(row)\n",
    "    return flat_list\n",
    "example_with_two_hop = flatten_extend(example_with_two_hop)"
   ]
  },
  {
   "cell_type": "code",
   "execution_count": 50,
   "id": "850b0cc3-5695-4d89-89d5-195d40e8c037",
   "metadata": {},
   "outputs": [
    {
     "name": "stdout",
     "output_type": "stream",
     "text": [
      "-------------two hop fact --------------------\n",
      "entity 1 Q38111\n",
      " relation Relation.COUNTRY_OF_CITIZENSHIP\n",
      " bridge entity['Q858']\n",
      " second relation Relation.CURRENCY\n",
      "  entity 2['Q240468']\n",
      "The name of the currency in the country of citizenship of Leonardo DiCaprio is\n",
      "-------------two hop fact --------------------\n",
      "entity 1 Q38111\n",
      " relation Relation.COUNTRY_OF_CITIZENSHIP\n",
      " bridge entity['Q858']\n",
      " second relation Relation.OFFICIAL_LANGUAGE\n",
      "  entity 2['Q13955']\n",
      "The official language of the country of citizenship of Leonardo DiCaprio is\n",
      "-------------two hop fact --------------------\n",
      "entity 1 Q38111\n",
      " relation Relation.COUNTRY_OF_CITIZENSHIP\n",
      " bridge entity['Q858']\n",
      " second relation Relation.CONTINENT\n",
      "  entity 2['Q48']\n",
      "The name of the continent which the country of citizenship of Leonardo DiCaprio is part of is\n",
      "-------------two hop fact --------------------\n",
      "entity 1 Q38111\n",
      " relation Relation.COUNTRY_OF_CITIZENSHIP\n",
      " bridge entity['Q858']\n",
      " second relation Relation.CAPITAL\n",
      "  entity 2['Q3766']\n",
      "The name of the capital city of the country of citizenship of Leonardo DiCaprio is\n"
     ]
    }
   ],
   "source": [
    "for i, e in enumerate(example_with_two_hop):\n",
    "    if i > 3:\n",
    "        break\n",
    "    print('-------------two hop fact --------------------')\n",
    "    print(f'entity 1 {e._subject_id}\\n relation {e._relation}\\n bridge entity{e._targets_ids}\\n second relation {e._second_relation}\\n  entity 2{e._second_hop_target_ids}')\n",
    "    print(f'{e.get_query_prompt()}')"
   ]
  },
  {
   "cell_type": "code",
   "execution_count": 49,
   "id": "922e3efe-1f6a-43ca-ba69-76498aac6e3e",
   "metadata": {},
   "outputs": [
    {
     "data": {
      "text/plain": [
       "14555"
      ]
     },
     "execution_count": 49,
     "metadata": {},
     "output_type": "execute_result"
    }
   ],
   "source": [
    "len(example_with_two_hop)"
   ]
  },
  {
   "cell_type": "code",
   "execution_count": 39,
   "id": "35c7adc9-745c-41a0-89e9-f4381292f9fb",
   "metadata": {},
   "outputs": [
    {
     "data": {
      "text/plain": [
       "532"
      ]
     },
     "execution_count": 39,
     "metadata": {},
     "output_type": "execute_result"
    }
   ],
   "source": [
    "from relation import Relation\n",
    "from two_hop_phrases import relation_couple_to_phrase, relation_relation2phrase\n",
    "len(Relation)\n",
    "relation_two_hops = []\n",
    "for rel1 in Relation:\n",
    "    for rel2 in Relation:\n",
    "        if relation_couple_to_phrase(rel1, rel2) is not None:\n",
    "            relation_two_hops.append((rel1, rel2))\n",
    "len(relation_two_hops)\n",
    "            "
   ]
  }
 ],
 "metadata": {
  "kernelspec": {
   "display_name": "Python 3 (ipykernel)",
   "language": "python",
   "name": "python3"
  },
  "language_info": {
   "codemirror_mode": {
    "name": "ipython",
    "version": 3
   },
   "file_extension": ".py",
   "mimetype": "text/x-python",
   "name": "python",
   "nbconvert_exporter": "python",
   "pygments_lexer": "ipython3",
   "version": "3.9.19"
  }
 },
 "nbformat": 4,
 "nbformat_minor": 5
}
